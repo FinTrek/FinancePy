{
 "cells": [
  {
   "cell_type": "markdown",
   "metadata": {},
   "source": [
    "# Bond Option Pricing using Various Models"
   ]
  },
  {
   "cell_type": "markdown",
   "metadata": {},
   "source": [
    "Value an option on a coupon paying bond using the Hull-White, Black-Derman-Toy and Black-Karasinski model"
   ]
  },
  {
   "cell_type": "code",
   "execution_count": 1,
   "metadata": {},
   "outputs": [],
   "source": [
    "import numpy as np\n",
    "import matplotlib.pyplot as plt\n",
    "import time"
   ]
  },
  {
   "cell_type": "code",
   "execution_count": 20,
   "metadata": {},
   "outputs": [],
   "source": [
    "from financepy.finutils import *\n",
    "from financepy.market.curves import *\n",
    "from financepy.models.FinModelRatesBK import FinModelRatesBK\n",
    "from financepy.models.FinModelRatesBDT import FinModelRatesBDT\n",
    "from financepy.models.FinModelRatesHW import FinModelRatesHW\n",
    "from financepy.products.bonds import *"
   ]
  },
  {
   "cell_type": "markdown",
   "metadata": {},
   "source": [
    "## Set up the Discount Curve"
   ]
  },
  {
   "cell_type": "code",
   "execution_count": 21,
   "metadata": {},
   "outputs": [],
   "source": [
    "settlement_date = FinDate(1, 12, 2019)"
   ]
  },
  {
   "cell_type": "markdown",
   "metadata": {},
   "source": [
    "Set up discount curve"
   ]
  },
  {
   "cell_type": "code",
   "execution_count": 22,
   "metadata": {},
   "outputs": [],
   "source": [
    "rate = 0.10\n",
    "dcType = DayCountTypes.THIRTY_360_BOND\n",
    "fixedFreq = FrequencyTypes.SEMI_ANNUAL\n",
    "discount_curve = FinDiscountCurveFlat(settlement_date, rate, fixedFreq, dcType)"
   ]
  },
  {
   "cell_type": "markdown",
   "metadata": {},
   "source": [
    "## Set up the Bond Option"
   ]
  },
  {
   "cell_type": "markdown",
   "metadata": {},
   "source": [
    "First create the bond"
   ]
  },
  {
   "cell_type": "code",
   "execution_count": 23,
   "metadata": {},
   "outputs": [],
   "source": [
    "issue_date = FinDate(1,12,2018)\n",
    "maturity_date = issue_date.addTenor(\"3Y\")\n",
    "coupon = 0.10\n",
    "frequencyType = FrequencyTypes.SEMI_ANNUAL\n",
    "accrual_type = DayCountTypes.THIRTY_360_BOND\n",
    "bond = Bond(issue_date, maturity_date, coupon, frequencyType, accrual_type)"
   ]
  },
  {
   "cell_type": "markdown",
   "metadata": {},
   "source": [
    "Let's first price the bond on the libor curve"
   ]
  },
  {
   "cell_type": "code",
   "execution_count": 24,
   "metadata": {},
   "outputs": [
    {
     "name": "stdout",
     "output_type": "stream",
     "text": [
      "Fixed Income Clean Price:   100.000\n",
      "Fixed Income Full  Price:   105.000\n"
     ]
    }
   ],
   "source": [
    "cp = bond.clean_price_from_discount_curve(settlement_date, discount_curve)\n",
    "fp = bond.full_price_from_discount_curve(settlement_date, discount_curve)\n",
    "print(\"Fixed Income Clean Price: %9.3f\"% cp)\n",
    "print(\"Fixed Income Full  Price: %9.3f\"% fp)"
   ]
  },
  {
   "cell_type": "code",
   "execution_count": 25,
   "metadata": {},
   "outputs": [
    {
     "data": {
      "text/plain": [
       "01-DEC-2019"
      ]
     },
     "execution_count": 25,
     "metadata": {},
     "output_type": "execute_result"
    }
   ],
   "source": [
    "settlement_date"
   ]
  },
  {
   "cell_type": "code",
   "execution_count": 26,
   "metadata": {},
   "outputs": [
    {
     "name": "stdout",
     "output_type": "stream",
     "text": [
      " 01-DEC-2019          5.00 \n",
      " 01-JUN-2020          5.00 \n",
      " 01-DEC-2020          5.00 \n",
      " 01-JUN-2021          5.00 \n",
      " 01-DEC-2021        105.00 \n"
     ]
    }
   ],
   "source": [
    "bond.print_flows(settlement_date)"
   ]
  },
  {
   "cell_type": "markdown",
   "metadata": {},
   "source": [
    "# Create the Bond Options"
   ]
  },
  {
   "cell_type": "markdown",
   "metadata": {},
   "source": [
    "Then define and create the option"
   ]
  },
  {
   "cell_type": "code",
   "execution_count": 27,
   "metadata": {},
   "outputs": [],
   "source": [
    "expiry_date = settlement_date.addTenor(\"18m\")\n",
    "strike_price = 95.0\n",
    "face_amount = 100.0"
   ]
  },
  {
   "cell_type": "code",
   "execution_count": 28,
   "metadata": {},
   "outputs": [],
   "source": [
    "europeanCallBondOption = BondOption(bond, expiry_date, strike_price, face_amount, FinOptionTypes.EUROPEAN_CALL)\n",
    "americanCallBondOption = BondOption(bond, expiry_date, strike_price, face_amount, FinOptionTypes.AMERICAN_CALL)"
   ]
  },
  {
   "cell_type": "code",
   "execution_count": 29,
   "metadata": {},
   "outputs": [],
   "source": [
    "europeanPutBondOption = BondOption(bond, expiry_date, strike_price, face_amount, FinOptionTypes.EUROPEAN_PUT)\n",
    "americanPutBondOption = BondOption(bond, expiry_date, strike_price, face_amount, FinOptionTypes.AMERICAN_PUT)"
   ]
  },
  {
   "cell_type": "markdown",
   "metadata": {},
   "source": [
    "Consider the forward bond price."
   ]
  },
  {
   "cell_type": "code",
   "execution_count": 30,
   "metadata": {},
   "outputs": [
    {
     "name": "stdout",
     "output_type": "stream",
     "text": [
      "Fixed Income Clean Price:   100.000\n",
      "Fixed Income Full  Price:   105.000\n"
     ]
    }
   ],
   "source": [
    "cp = bond.clean_price_from_discount_curve(expiry_date, discount_curve)\n",
    "fp = bond.full_price_from_discount_curve(expiry_date, discount_curve)\n",
    "print(\"Fixed Income Clean Price: %9.3f\"% cp)\n",
    "print(\"Fixed Income Full  Price: %9.3f\"% fp)"
   ]
  },
  {
   "cell_type": "code",
   "execution_count": 31,
   "metadata": {},
   "outputs": [],
   "source": [
    "df = discount_curve.df(expiry_date)\n",
    "callIntrinsic = max(cp - strike_price, 0) * df\n",
    "putIntrinsic = max(strike_price - cp, 0) * df"
   ]
  },
  {
   "cell_type": "code",
   "execution_count": 32,
   "metadata": {},
   "outputs": [
    {
     "data": {
      "text/plain": [
       "4.319187992657368"
      ]
     },
     "execution_count": 32,
     "metadata": {},
     "output_type": "execute_result"
    }
   ],
   "source": [
    "callIntrinsic"
   ]
  },
  {
   "cell_type": "code",
   "execution_count": 33,
   "metadata": {},
   "outputs": [
    {
     "data": {
      "text/plain": [
       "0.0"
      ]
     },
     "execution_count": 33,
     "metadata": {},
     "output_type": "execute_result"
    }
   ],
   "source": [
    "putIntrinsic"
   ]
  },
  {
   "cell_type": "markdown",
   "metadata": {},
   "source": [
    "## Tree Models"
   ]
  },
  {
   "cell_type": "markdown",
   "metadata": {},
   "source": [
    "Set the model parameters, start with zero vol."
   ]
  },
  {
   "cell_type": "code",
   "execution_count": 34,
   "metadata": {},
   "outputs": [],
   "source": [
    "num_steps = 200"
   ]
  },
  {
   "cell_type": "code",
   "execution_count": 35,
   "metadata": {},
   "outputs": [],
   "source": [
    "sigma = 0.00001\n",
    "a = 0.1\n",
    "modelHW = FinModelRatesHW(sigma*rate, a, num_steps)\n",
    "modelBK = FinModelRatesBK(sigma, a, num_steps)\n",
    "modelBDT = FinModelRatesBDT(sigma, num_steps)"
   ]
  },
  {
   "cell_type": "markdown",
   "metadata": {},
   "source": [
    "Check some limits - the call option should be worth the intrinsic."
   ]
  },
  {
   "cell_type": "code",
   "execution_count": 36,
   "metadata": {},
   "outputs": [
    {
     "name": "stdout",
     "output_type": "stream",
     "text": [
      "European Call Value:   4.30649\n",
      "American Call Value:   4.96842\n"
     ]
    }
   ],
   "source": [
    "ec = europeanCallBondOption.value(settlement_date, discount_curve, modelHW)\n",
    "ac = americanCallBondOption.value(settlement_date, discount_curve, modelHW)\n",
    "print(\"European Call Value: %9.5f\" % ec)\n",
    "print(\"American Call Value: %9.5f\" % ac)"
   ]
  },
  {
   "cell_type": "markdown",
   "metadata": {},
   "source": [
    "The put option too."
   ]
  },
  {
   "cell_type": "code",
   "execution_count": 37,
   "metadata": {},
   "outputs": [
    {
     "name": "stdout",
     "output_type": "stream",
     "text": [
      "European Put Value:   0.00000\n",
      "American Put Value:   0.00000\n"
     ]
    }
   ],
   "source": [
    "ep = europeanPutBondOption.value(settlement_date, discount_curve, modelHW)\n",
    "ap = americanPutBondOption.value(settlement_date, discount_curve, modelHW)\n",
    "print(\"European Put Value: %9.5f\" % ep)\n",
    "print(\"American Put Value: %9.5f\" % ap)"
   ]
  },
  {
   "cell_type": "markdown",
   "metadata": {},
   "source": [
    "Now we turn on the volatility."
   ]
  },
  {
   "cell_type": "code",
   "execution_count": 38,
   "metadata": {},
   "outputs": [],
   "source": [
    "sigma = 0.20\n",
    "a = 0.1\n",
    "modelHW = FinModelRatesHW(sigma*rate, a, num_steps)\n",
    "modelBK = FinModelRatesBK(sigma, a, num_steps)\n",
    "modelBDT = FinModelRatesBDT(sigma, num_steps)"
   ]
  },
  {
   "cell_type": "code",
   "execution_count": 39,
   "metadata": {},
   "outputs": [
    {
     "name": "stdout",
     "output_type": "stream",
     "text": [
      "European Call Value:   4.30650\n",
      "American Call Value:   5.26581\n"
     ]
    }
   ],
   "source": [
    "ec = europeanCallBondOption.value(settlement_date, discount_curve, modelHW)\n",
    "ac = americanCallBondOption.value(settlement_date, discount_curve, modelHW)\n",
    "print(\"European Call Value: %9.5f\" % ec)\n",
    "print(\"American Call Value: %9.5f\" % ac)"
   ]
  },
  {
   "cell_type": "code",
   "execution_count": 40,
   "metadata": {},
   "outputs": [
    {
     "name": "stdout",
     "output_type": "stream",
     "text": [
      "European Put Value:   0.00000\n",
      "American Put Value:   0.00454\n"
     ]
    }
   ],
   "source": [
    "ep = europeanPutBondOption.value(settlement_date, discount_curve, modelHW)\n",
    "ap = americanPutBondOption.value(settlement_date, discount_curve, modelHW)\n",
    "print(\"European Put Value: %9.5f\" % ep)\n",
    "print(\"American Put Value: %9.5f\" % ap)"
   ]
  },
  {
   "cell_type": "markdown",
   "metadata": {},
   "source": [
    "Copyright (c) Dominic O'Kane 2020"
   ]
  }
 ],
 "metadata": {
  "kernelspec": {
   "display_name": "Python 3",
   "language": "python",
   "name": "python3"
  },
  "language_info": {
   "codemirror_mode": {
    "name": "ipython",
    "version": 3
   },
   "file_extension": ".py",
   "mimetype": "text/x-python",
   "name": "python",
   "nbconvert_exporter": "python",
   "pygments_lexer": "ipython3",
   "version": "3.8.5"
  }
 },
 "nbformat": 4,
 "nbformat_minor": 2
}
