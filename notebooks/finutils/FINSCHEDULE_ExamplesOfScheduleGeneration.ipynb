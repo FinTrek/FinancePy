{
 "cells": [
  {
   "cell_type": "markdown",
   "metadata": {},
   "source": [
    "# Schedule Generation"
   ]
  },
  {
   "cell_type": "markdown",
   "metadata": {},
   "source": [
    "Examples of how to generate schedules"
   ]
  },
  {
   "cell_type": "code",
   "execution_count": 1,
   "metadata": {},
   "outputs": [
    {
     "name": "stdout",
     "output_type": "stream",
     "text": [
      "####################################################################\n",
      "# FINANCEPY BETA Version 0.192 - This build:  06 Feb 2021 at 20:27 #\n",
      "#      This software is distributed FREE & WITHOUT ANY WARRANTY    #\n",
      "# For info and disclaimer - https://github.com/domokane/FinancePy  #\n",
      "#      Send any bug reports or comments to quant@financepy.com     #\n",
      "####################################################################\n",
      "\n"
     ]
    }
   ],
   "source": [
    "from financepy.finutils import *"
   ]
  },
  {
   "cell_type": "code",
   "execution_count": 2,
   "metadata": {},
   "outputs": [],
   "source": [
    "start_date = FinDate(4, 8, 2016)\n",
    "end_date = FinDate(1, 5, 2022)"
   ]
  },
  {
   "cell_type": "code",
   "execution_count": 3,
   "metadata": {},
   "outputs": [],
   "source": [
    "freq_type = FinFrequencyTypes.ANNUAL\n",
    "calendar_type = FinCalendarTypes.WEEKEND\n",
    "bus_day_adjust_type = FinBusDayAdjustTypes.FOLLOWING\n",
    "date_gen_rule_type = FinDateGenRuleTypes.BACKWARD\n",
    "schedule = FinSchedule(start_date, end_date, freq_type, calendar_type, \n",
    "                       bus_day_adjust_type, date_gen_rule_type)"
   ]
  },
  {
   "cell_type": "code",
   "execution_count": 4,
   "metadata": {},
   "outputs": [
    {
     "name": "stdout",
     "output_type": "stream",
     "text": [
      "OBJECT TYPE: FinSchedule\n",
      "EFFECTIVE DATE: 04-AUG-2016\n",
      "END DATE: 01-MAY-2022\n",
      "FREQUENCY: FinFrequencyTypes.ANNUAL\n",
      "CALENDAR: FinCalendarTypes.WEEKEND\n",
      "BUSDAYRULE: FinBusDayAdjustTypes.FOLLOWING\n",
      "DATEGENRULE: FinDateGenRuleTypes.BACKWARD\n",
      "\n",
      "PCD: 04-AUG-2016\n",
      "NCD: 01-MAY-2017\n",
      "     01-MAY-2018\n",
      "     01-MAY-2019\n",
      "     01-MAY-2020\n",
      "     03-MAY-2021\n",
      "     02-MAY-2022\n"
     ]
    }
   ],
   "source": [
    "print(schedule)"
   ]
  },
  {
   "cell_type": "markdown",
   "metadata": {},
   "source": [
    "The first date is the previous coupon date. The next date is the next coupon date after today."
   ]
  },
  {
   "cell_type": "code",
   "execution_count": 5,
   "metadata": {},
   "outputs": [],
   "source": [
    "freq_type = FinFrequencyTypes.SEMI_ANNUAL\n",
    "calendar_type = FinCalendarTypes.WEEKEND\n",
    "bus_day_adjust_type = FinBusDayAdjustTypes.FOLLOWING\n",
    "date_gen_rule_type = FinDateGenRuleTypes.BACKWARD\n",
    "schedule = FinSchedule(start_date, end_date, freq_type, calendar_type, bus_day_adjust_type, date_gen_rule_type)"
   ]
  },
  {
   "cell_type": "code",
   "execution_count": 6,
   "metadata": {},
   "outputs": [
    {
     "name": "stdout",
     "output_type": "stream",
     "text": [
      "OBJECT TYPE: FinSchedule\n",
      "EFFECTIVE DATE: 04-AUG-2016\n",
      "END DATE: 01-MAY-2022\n",
      "FREQUENCY: FinFrequencyTypes.SEMI_ANNUAL\n",
      "CALENDAR: FinCalendarTypes.WEEKEND\n",
      "BUSDAYRULE: FinBusDayAdjustTypes.FOLLOWING\n",
      "DATEGENRULE: FinDateGenRuleTypes.BACKWARD\n",
      "\n",
      "PCD: 04-AUG-2016\n",
      "NCD: 01-NOV-2016\n",
      "     01-MAY-2017\n",
      "     01-NOV-2017\n",
      "     01-MAY-2018\n",
      "     01-NOV-2018\n",
      "     01-MAY-2019\n",
      "     01-NOV-2019\n",
      "     01-MAY-2020\n",
      "     02-NOV-2020\n",
      "     03-MAY-2021\n",
      "     01-NOV-2021\n",
      "     02-MAY-2022\n"
     ]
    }
   ],
   "source": [
    "print(schedule)"
   ]
  },
  {
   "cell_type": "code",
   "execution_count": 7,
   "metadata": {},
   "outputs": [],
   "source": [
    "freq_type = FinFrequencyTypes.SEMI_ANNUAL\n",
    "calendar_type = FinCalendarTypes.TARGET\n",
    "bus_day_adjust_type = FinBusDayAdjustTypes.FOLLOWING\n",
    "date_gen_rule_type = FinDateGenRuleTypes.BACKWARD\n",
    "schedule = FinSchedule(start_date, end_date, freq_type, calendar_type, bus_day_adjust_type, date_gen_rule_type)"
   ]
  },
  {
   "cell_type": "code",
   "execution_count": 8,
   "metadata": {},
   "outputs": [
    {
     "name": "stdout",
     "output_type": "stream",
     "text": [
      "OBJECT TYPE: FinSchedule\n",
      "EFFECTIVE DATE: 04-AUG-2016\n",
      "END DATE: 01-MAY-2022\n",
      "FREQUENCY: FinFrequencyTypes.SEMI_ANNUAL\n",
      "CALENDAR: FinCalendarTypes.TARGET\n",
      "BUSDAYRULE: FinBusDayAdjustTypes.FOLLOWING\n",
      "DATEGENRULE: FinDateGenRuleTypes.BACKWARD\n",
      "\n",
      "PCD: 04-AUG-2016\n",
      "NCD: 01-NOV-2016\n",
      "     02-MAY-2017\n",
      "     01-NOV-2017\n",
      "     02-MAY-2018\n",
      "     01-NOV-2018\n",
      "     02-MAY-2019\n",
      "     01-NOV-2019\n",
      "     04-MAY-2020\n",
      "     02-NOV-2020\n",
      "     03-MAY-2021\n",
      "     01-NOV-2021\n",
      "     02-MAY-2022\n"
     ]
    }
   ],
   "source": [
    "print(schedule)"
   ]
  },
  {
   "cell_type": "code",
   "execution_count": null,
   "metadata": {},
   "outputs": [],
   "source": []
  }
 ],
 "metadata": {
  "kernelspec": {
   "display_name": "Python 3",
   "language": "python",
   "name": "python3"
  },
  "language_info": {
   "codemirror_mode": {
    "name": "ipython",
    "version": 3
   },
   "file_extension": ".py",
   "mimetype": "text/x-python",
   "name": "python",
   "nbconvert_exporter": "python",
   "pygments_lexer": "ipython3",
   "version": "3.8.7"
  }
 },
 "nbformat": 4,
 "nbformat_minor": 2
}
